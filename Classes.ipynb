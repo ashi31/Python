{
  "nbformat": 4,
  "nbformat_minor": 0,
  "metadata": {
    "colab": {
      "name": "Classes.ipynb",
      "provenance": [],
      "authorship_tag": "ABX9TyONu9vDbGeqXOoaBZb+T5O9",
      "include_colab_link": true
    },
    "kernelspec": {
      "name": "python3",
      "display_name": "Python 3"
    }
  },
  "cells": [
    {
      "cell_type": "markdown",
      "metadata": {
        "id": "view-in-github",
        "colab_type": "text"
      },
      "source": [
        "<a href=\"https://colab.research.google.com/github/ashi31/Python/blob/master/Classes.ipynb\" target=\"_parent\"><img src=\"https://colab.research.google.com/assets/colab-badge.svg\" alt=\"Open In Colab\"/></a>"
      ]
    },
    {
      "cell_type": "code",
      "metadata": {
        "id": "u1bDFuutc5iq",
        "colab_type": "code",
        "colab": {}
      },
      "source": [
        "class Dog:\n",
        "  name = 'Jon'\n",
        "  color = 'Brown'\n",
        "  def get_color(self):\n",
        "    print(self.name)\n",
        "    return self.color"
      ],
      "execution_count": 0,
      "outputs": []
    },
    {
      "cell_type": "code",
      "metadata": {
        "id": "768E2zjjevHm",
        "colab_type": "code",
        "outputId": "e7d7fcf6-de0c-4104-f856-9ab534d4d403",
        "colab": {
          "base_uri": "https://localhost:8080/",
          "height": 34
        }
      },
      "source": [
        "instance = Dog()\n",
        "obj = Dog()\n",
        "obj.name"
      ],
      "execution_count": 43,
      "outputs": [
        {
          "output_type": "execute_result",
          "data": {
            "text/plain": [
              "'Jon'"
            ]
          },
          "metadata": {
            "tags": []
          },
          "execution_count": 43
        }
      ]
    },
    {
      "cell_type": "code",
      "metadata": {
        "id": "c5nvlu8Ue3VO",
        "colab_type": "code",
        "outputId": "c4e9fc34-71a9-4e01-d1de-152c6f13f774",
        "colab": {
          "base_uri": "https://localhost:8080/",
          "height": 51
        }
      },
      "source": [
        "obj.name = 'Snow'\n",
        "print(obj.name)\n",
        "print(instance.name)"
      ],
      "execution_count": 44,
      "outputs": [
        {
          "output_type": "stream",
          "text": [
            "Snow\n",
            "Jon\n"
          ],
          "name": "stdout"
        }
      ]
    },
    {
      "cell_type": "code",
      "metadata": {
        "id": "Gqo2BzJRfJjL",
        "colab_type": "code",
        "outputId": "a8a76efe-5757-43b3-b1a0-d2711e09fa1b",
        "colab": {
          "base_uri": "https://localhost:8080/",
          "height": 51
        }
      },
      "source": [
        "obj.get_color()"
      ],
      "execution_count": 45,
      "outputs": [
        {
          "output_type": "stream",
          "text": [
            "Snow\n"
          ],
          "name": "stdout"
        },
        {
          "output_type": "execute_result",
          "data": {
            "text/plain": [
              "'Brown'"
            ]
          },
          "metadata": {
            "tags": []
          },
          "execution_count": 45
        }
      ]
    },
    {
      "cell_type": "markdown",
      "metadata": {
        "id": "d3I5mrqhhRDE",
        "colab_type": "text"
      },
      "source": [
        "# **Inheritence**"
      ]
    },
    {
      "cell_type": "code",
      "metadata": {
        "id": "v5rHykWZfp_x",
        "colab_type": "code",
        "colab": {}
      },
      "source": [
        "class Animal():\n",
        "  noise = 'Grunt'\n",
        "  size = 'Large'\n",
        "  color = 'Brown'\n",
        "  hair = 'Covers body'\n",
        "\n",
        "  def get_color(self):\n",
        "    return self.color\n",
        "  def make_noise(self):\n",
        "    return self.noise\n",
        "  @property\n",
        "  def call_size(self):\n",
        "    return self.size"
      ],
      "execution_count": 0,
      "outputs": []
    },
    {
      "cell_type": "code",
      "metadata": {
        "id": "ZdXSaDJFhOql",
        "colab_type": "code",
        "outputId": "b2faec1a-ae73-4b3e-ecdf-a99ae48afc9f",
        "colab": {
          "base_uri": "https://localhost:8080/",
          "height": 34
        }
      },
      "source": [
        "dog = Animal()\n",
        "dog.make_noise()"
      ],
      "execution_count": 49,
      "outputs": [
        {
          "output_type": "execute_result",
          "data": {
            "text/plain": [
              "'Grunt'"
            ]
          },
          "metadata": {
            "tags": []
          },
          "execution_count": 49
        }
      ]
    },
    {
      "cell_type": "code",
      "metadata": {
        "id": "NfAythUfhpFh",
        "colab_type": "code",
        "colab": {}
      },
      "source": [
        "class Dog(Animal):\n",
        "  name = 'Jon'\n",
        "  noise = 'Bark'\n",
        "  def make_noise(self):\n",
        "    return self.noise"
      ],
      "execution_count": 0,
      "outputs": []
    },
    {
      "cell_type": "code",
      "metadata": {
        "id": "vtgSCQlth_Tj",
        "colab_type": "code",
        "outputId": "a747c5a7-79fc-46ff-d106-74bcc3876095",
        "colab": {
          "base_uri": "https://localhost:8080/",
          "height": 68
        }
      },
      "source": [
        "dog1 = Dog()\n",
        "print(dog1.name)\n",
        "print(dog1.size)\n",
        "print(dog1.get_color())"
      ],
      "execution_count": 51,
      "outputs": [
        {
          "output_type": "stream",
          "text": [
            "Jon\n",
            "Large\n",
            "Brown\n"
          ],
          "name": "stdout"
        }
      ]
    },
    {
      "cell_type": "code",
      "metadata": {
        "id": "BykxJD5MiJBU",
        "colab_type": "code",
        "outputId": "9906cdd5-5959-4f9b-febf-0a1c632009bc",
        "colab": {
          "base_uri": "https://localhost:8080/",
          "height": 34
        }
      },
      "source": [
        "dog1.make_noise()"
      ],
      "execution_count": 52,
      "outputs": [
        {
          "output_type": "execute_result",
          "data": {
            "text/plain": [
              "'Bark'"
            ]
          },
          "metadata": {
            "tags": []
          },
          "execution_count": 52
        }
      ]
    },
    {
      "cell_type": "code",
      "metadata": {
        "id": "J4gbNV5HjMUj",
        "colab_type": "code",
        "colab": {}
      },
      "source": [
        "#pass"
      ],
      "execution_count": 0,
      "outputs": []
    },
    {
      "cell_type": "code",
      "metadata": {
        "id": "JSpM7hQxlWV4",
        "colab_type": "code",
        "colab": {
          "base_uri": "https://localhost:8080/",
          "height": 34
        },
        "outputId": "6a0305a4-5284-4cb5-c32d-a2e935c6fd71"
      },
      "source": [
        "dog.call_size"
      ],
      "execution_count": 54,
      "outputs": [
        {
          "output_type": "execute_result",
          "data": {
            "text/plain": [
              "'Large'"
            ]
          },
          "metadata": {
            "tags": []
          },
          "execution_count": 54
        }
      ]
    },
    {
      "cell_type": "code",
      "metadata": {
        "id": "06niyXMolmW_",
        "colab_type": "code",
        "colab": {}
      },
      "source": [
        ""
      ],
      "execution_count": 0,
      "outputs": []
    }
  ]
}